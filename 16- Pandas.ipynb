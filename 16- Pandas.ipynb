{
 "cells": [
  {
   "cell_type": "code",
   "execution_count": 1,
   "id": "cad5e62f",
   "metadata": {},
   "outputs": [],
   "source": [
    "import numpy as np\n",
    "import pandas as pd"
   ]
  },
  {
   "cell_type": "code",
   "execution_count": 2,
   "id": "3ce5e383",
   "metadata": {},
   "outputs": [],
   "source": [
    "email = 'Saeid.jamshidi@outlook.com'"
   ]
  },
  {
   "cell_type": "code",
   "execution_count": 3,
   "id": "2cdeca82",
   "metadata": {},
   "outputs": [
    {
     "data": {
      "text/plain": [
       "['Saeid.jamshidi', 'outlook.com']"
      ]
     },
     "execution_count": 3,
     "metadata": {},
     "output_type": "execute_result"
    }
   ],
   "source": [
    "email.split('@')"
   ]
  },
  {
   "cell_type": "code",
   "execution_count": 7,
   "id": "4b8bc4d9",
   "metadata": {},
   "outputs": [
    {
     "data": {
      "text/plain": [
       "False"
      ]
     },
     "execution_count": 7,
     "metadata": {},
     "output_type": "execute_result"
    }
   ],
   "source": [
    "email.isdigit()"
   ]
  },
  {
   "cell_type": "code",
   "execution_count": 8,
   "id": "2e5570c5",
   "metadata": {},
   "outputs": [
    {
     "data": {
      "text/plain": [
       "True"
      ]
     },
     "execution_count": 8,
     "metadata": {},
     "output_type": "execute_result"
    }
   ],
   "source": [
    "'5'.isdigit()"
   ]
  },
  {
   "cell_type": "code",
   "execution_count": 4,
   "id": "9a0e815d",
   "metadata": {},
   "outputs": [],
   "source": [
    "names = pd.Series(['andrew','saeed','jam','sa','4'])"
   ]
  },
  {
   "cell_type": "code",
   "execution_count": 5,
   "id": "0b1f82ae",
   "metadata": {},
   "outputs": [
    {
     "data": {
      "text/plain": [
       "0    andrew\n",
       "1     saeed\n",
       "2       jam\n",
       "3        sa\n",
       "4         4\n",
       "dtype: object"
      ]
     },
     "execution_count": 5,
     "metadata": {},
     "output_type": "execute_result"
    }
   ],
   "source": [
    "names"
   ]
  },
  {
   "cell_type": "code",
   "execution_count": 6,
   "id": "b544846d",
   "metadata": {
    "scrolled": true
   },
   "outputs": [
    {
     "data": {
      "text/plain": [
       "0    ANDREW\n",
       "1     SAEED\n",
       "2       JAM\n",
       "3        SA\n",
       "4         4\n",
       "dtype: object"
      ]
     },
     "execution_count": 6,
     "metadata": {},
     "output_type": "execute_result"
    }
   ],
   "source": [
    "names.str.upper()"
   ]
  },
  {
   "cell_type": "code",
   "execution_count": 9,
   "id": "cf81ea5f",
   "metadata": {},
   "outputs": [
    {
     "data": {
      "text/plain": [
       "0    False\n",
       "1    False\n",
       "2    False\n",
       "3    False\n",
       "4     True\n",
       "dtype: bool"
      ]
     },
     "execution_count": 9,
     "metadata": {},
     "output_type": "execute_result"
    }
   ],
   "source": [
    "names.str.isdigit()"
   ]
  },
  {
   "cell_type": "code",
   "execution_count": 10,
   "id": "fd631546",
   "metadata": {},
   "outputs": [],
   "source": [
    "tech_finace = ['GOOG,APPL,AMZN','JPM,ABC,GS']"
   ]
  },
  {
   "cell_type": "code",
   "execution_count": 11,
   "id": "317a408d",
   "metadata": {},
   "outputs": [
    {
     "data": {
      "text/plain": [
       "2"
      ]
     },
     "execution_count": 11,
     "metadata": {},
     "output_type": "execute_result"
    }
   ],
   "source": [
    "len(tech_finace)"
   ]
  },
  {
   "cell_type": "code",
   "execution_count": 13,
   "id": "717fe178",
   "metadata": {},
   "outputs": [],
   "source": [
    "tickers = pd.Series(tech_finace)"
   ]
  },
  {
   "cell_type": "code",
   "execution_count": 14,
   "id": "2b5d3236",
   "metadata": {},
   "outputs": [
    {
     "data": {
      "text/plain": [
       "0    GOOG,APPL,AMZN\n",
       "1        JPM,ABC,GS\n",
       "dtype: object"
      ]
     },
     "execution_count": 14,
     "metadata": {},
     "output_type": "execute_result"
    }
   ],
   "source": [
    "tickers"
   ]
  },
  {
   "cell_type": "code",
   "execution_count": 16,
   "id": "50566ab8",
   "metadata": {},
   "outputs": [
    {
     "data": {
      "text/plain": [
       "0    [GOOG, APPL, AMZN]\n",
       "1        [JPM, ABC, GS]\n",
       "dtype: object"
      ]
     },
     "execution_count": 16,
     "metadata": {},
     "output_type": "execute_result"
    }
   ],
   "source": [
    "tickers.str.split(',')"
   ]
  },
  {
   "cell_type": "code",
   "execution_count": 17,
   "id": "1ba64077",
   "metadata": {},
   "outputs": [],
   "source": [
    "tech = 'GOOG,APPL,AMZN'"
   ]
  },
  {
   "cell_type": "code",
   "execution_count": 18,
   "id": "fae6a9d5",
   "metadata": {},
   "outputs": [
    {
     "data": {
      "text/plain": [
       "'GOOG'"
      ]
     },
     "execution_count": 18,
     "metadata": {},
     "output_type": "execute_result"
    }
   ],
   "source": [
    "tech.split(',')[0]"
   ]
  },
  {
   "cell_type": "code",
   "execution_count": 19,
   "id": "286d13fe",
   "metadata": {},
   "outputs": [
    {
     "data": {
      "text/plain": [
       "0    GOOG\n",
       "1     JPM\n",
       "dtype: object"
      ]
     },
     "execution_count": 19,
     "metadata": {},
     "output_type": "execute_result"
    }
   ],
   "source": [
    "tickers.str.split(',').str[0]"
   ]
  },
  {
   "cell_type": "code",
   "execution_count": 23,
   "id": "06c12fd5",
   "metadata": {},
   "outputs": [],
   "source": [
    "messy_names = pd.Series(['Saeed   ', 'boo,bo','    jam    '])"
   ]
  },
  {
   "cell_type": "code",
   "execution_count": 24,
   "id": "beaec9a9",
   "metadata": {},
   "outputs": [
    {
     "data": {
      "text/plain": [
       "0       Saeed   \n",
       "1         boo,bo\n",
       "2        jam    \n",
       "dtype: object"
      ]
     },
     "execution_count": 24,
     "metadata": {},
     "output_type": "execute_result"
    }
   ],
   "source": [
    "messy_names"
   ]
  },
  {
   "cell_type": "code",
   "execution_count": 25,
   "id": "d53c88bf",
   "metadata": {},
   "outputs": [
    {
     "data": {
      "text/plain": [
       "0       Saeed   \n",
       "1         boo,bo\n",
       "2        jam    \n",
       "dtype: object"
      ]
     },
     "execution_count": 25,
     "metadata": {},
     "output_type": "execute_result"
    }
   ],
   "source": [
    "messy_names.str.replace(';','')"
   ]
  },
  {
   "cell_type": "code",
   "execution_count": 26,
   "id": "31836c4e",
   "metadata": {},
   "outputs": [
    {
     "data": {
      "text/plain": [
       "0     Saeed\n",
       "1    boo,bo\n",
       "2       jam\n",
       "dtype: object"
      ]
     },
     "execution_count": 26,
     "metadata": {},
     "output_type": "execute_result"
    }
   ],
   "source": [
    "messy_names.str.replace(';','').str.strip()"
   ]
  },
  {
   "cell_type": "code",
   "execution_count": 27,
   "id": "c58994de",
   "metadata": {},
   "outputs": [
    {
     "data": {
      "text/plain": [
       "'Saeed'"
      ]
     },
     "execution_count": 27,
     "metadata": {},
     "output_type": "execute_result"
    }
   ],
   "source": [
    "messy_names.str.replace(';','').str.strip()[0]"
   ]
  },
  {
   "cell_type": "code",
   "execution_count": 28,
   "id": "ee96022a",
   "metadata": {},
   "outputs": [
    {
     "data": {
      "text/plain": [
       "0     Saeed\n",
       "1    Boo,bo\n",
       "2       Jam\n",
       "dtype: object"
      ]
     },
     "execution_count": 28,
     "metadata": {},
     "output_type": "execute_result"
    }
   ],
   "source": [
    "messy_names.str.replace(';','').str.strip().str.capitalize()"
   ]
  },
  {
   "cell_type": "code",
   "execution_count": 29,
   "id": "ec42391b",
   "metadata": {},
   "outputs": [],
   "source": [
    "def cleanup(name):\n",
    "    name = name.replace(';','')\n",
    "    name = name.strip()\n",
    "    name = name.capitalize()\n",
    "    return name"
   ]
  },
  {
   "cell_type": "code",
   "execution_count": 30,
   "id": "cdffd4c7",
   "metadata": {},
   "outputs": [
    {
     "data": {
      "text/plain": [
       "0     Saeed\n",
       "1    Boo,bo\n",
       "2       Jam\n",
       "dtype: object"
      ]
     },
     "execution_count": 30,
     "metadata": {},
     "output_type": "execute_result"
    }
   ],
   "source": [
    "messy_names.apply(cleanup)"
   ]
  },
  {
   "cell_type": "code",
   "execution_count": null,
   "id": "c9eed1da",
   "metadata": {},
   "outputs": [],
   "source": []
  }
 ],
 "metadata": {
  "kernelspec": {
   "display_name": "Python 3 (ipykernel)",
   "language": "python",
   "name": "python3"
  },
  "language_info": {
   "codemirror_mode": {
    "name": "ipython",
    "version": 3
   },
   "file_extension": ".py",
   "mimetype": "text/x-python",
   "name": "python",
   "nbconvert_exporter": "python",
   "pygments_lexer": "ipython3",
   "version": "3.9.13"
  }
 },
 "nbformat": 4,
 "nbformat_minor": 5
}
